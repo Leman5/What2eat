{
 "cells": [
  {
   "cell_type": "code",
   "execution_count": null,
   "id": "05d702c4-4a46-416e-8372-6f816b32e094",
   "metadata": {},
   "outputs": [],
   "source": [
    "!pip install openpyxl"
   ]
  },
  {
   "cell_type": "code",
   "execution_count": 46,
   "id": "8e85b45c-f484-47dd-83a6-30c2ec1437c1",
   "metadata": {},
   "outputs": [],
   "source": [
    "import pandas as pd"
   ]
  },
  {
   "cell_type": "markdown",
   "id": "d56fe256-1c1d-4ac3-a534-b154125adace",
   "metadata": {},
   "source": [
    "### 10k restaurant reviews dataset "
   ]
  },
  {
   "cell_type": "code",
   "execution_count": 93,
   "id": "571d9c7b-e041-4393-a794-9e987b791718",
   "metadata": {},
   "outputs": [
    {
     "data": {
      "text/html": [
       "<div>\n",
       "<style scoped>\n",
       "    .dataframe tbody tr th:only-of-type {\n",
       "        vertical-align: middle;\n",
       "    }\n",
       "\n",
       "    .dataframe tbody tr th {\n",
       "        vertical-align: top;\n",
       "    }\n",
       "\n",
       "    .dataframe thead th {\n",
       "        text-align: right;\n",
       "    }\n",
       "</style>\n",
       "<table border=\"1\" class=\"dataframe\">\n",
       "  <thead>\n",
       "    <tr style=\"text-align: right;\">\n",
       "      <th></th>\n",
       "      <th>Restaurant</th>\n",
       "      <th>Reviewer</th>\n",
       "      <th>Review</th>\n",
       "      <th>Rating</th>\n",
       "      <th>Metadata</th>\n",
       "      <th>Time</th>\n",
       "      <th>Pictures</th>\n",
       "      <th>7514</th>\n",
       "    </tr>\n",
       "  </thead>\n",
       "  <tbody>\n",
       "    <tr>\n",
       "      <th>0</th>\n",
       "      <td>Beyond Flavours</td>\n",
       "      <td>Rusha Chakraborty</td>\n",
       "      <td>The ambience was good, food was quite good . h...</td>\n",
       "      <td>5</td>\n",
       "      <td>1 Review , 2 Followers</td>\n",
       "      <td>5/25/2019 15:54</td>\n",
       "      <td>0</td>\n",
       "      <td>2447.0</td>\n",
       "    </tr>\n",
       "    <tr>\n",
       "      <th>1</th>\n",
       "      <td>Beyond Flavours</td>\n",
       "      <td>Anusha Tirumalaneedi</td>\n",
       "      <td>Ambience is too good for a pleasant evening. S...</td>\n",
       "      <td>5</td>\n",
       "      <td>3 Reviews , 2 Followers</td>\n",
       "      <td>5/25/2019 14:20</td>\n",
       "      <td>0</td>\n",
       "      <td>NaN</td>\n",
       "    </tr>\n",
       "  </tbody>\n",
       "</table>\n",
       "</div>"
      ],
      "text/plain": [
       "        Restaurant              Reviewer  \\\n",
       "0  Beyond Flavours     Rusha Chakraborty   \n",
       "1  Beyond Flavours  Anusha Tirumalaneedi   \n",
       "\n",
       "                                              Review Rating  \\\n",
       "0  The ambience was good, food was quite good . h...      5   \n",
       "1  Ambience is too good for a pleasant evening. S...      5   \n",
       "\n",
       "                  Metadata             Time  Pictures    7514  \n",
       "0   1 Review , 2 Followers  5/25/2019 15:54         0  2447.0  \n",
       "1  3 Reviews , 2 Followers  5/25/2019 14:20         0     NaN  "
      ]
     },
     "execution_count": 93,
     "metadata": {},
     "output_type": "execute_result"
    }
   ],
   "source": [
    "reviewRawData = pd.read_csv(\"Restaurant_reviews.csv\")\n",
    "\n",
    "reviewRawData.head(2)"
   ]
  },
  {
   "cell_type": "code",
   "execution_count": 94,
   "id": "56ed2cf7-1937-4640-aaac-14fbdb548eba",
   "metadata": {},
   "outputs": [],
   "source": [
    "reviewRawData['datetime'] = pd.to_datetime(reviewRawData['Time'], format='%m/%d/%Y %H:%M')\n",
    "reviewRawData['date']  = reviewRawData['datetime'].dt.date       \n",
    "reviewRawData['time']  = reviewRawData['datetime'].dt.time "
   ]
  },
  {
   "cell_type": "code",
   "execution_count": 95,
   "id": "4567a760-bfc4-4145-896f-bf8fab0dc44b",
   "metadata": {},
   "outputs": [
    {
     "data": {
      "text/html": [
       "<div>\n",
       "<style scoped>\n",
       "    .dataframe tbody tr th:only-of-type {\n",
       "        vertical-align: middle;\n",
       "    }\n",
       "\n",
       "    .dataframe tbody tr th {\n",
       "        vertical-align: top;\n",
       "    }\n",
       "\n",
       "    .dataframe thead th {\n",
       "        text-align: right;\n",
       "    }\n",
       "</style>\n",
       "<table border=\"1\" class=\"dataframe\">\n",
       "  <thead>\n",
       "    <tr style=\"text-align: right;\">\n",
       "      <th></th>\n",
       "      <th>Review</th>\n",
       "      <th>Rating</th>\n",
       "      <th>date</th>\n",
       "      <th>time</th>\n",
       "    </tr>\n",
       "  </thead>\n",
       "  <tbody>\n",
       "    <tr>\n",
       "      <th>0</th>\n",
       "      <td>The ambience was good, food was quite good . h...</td>\n",
       "      <td>5</td>\n",
       "      <td>2019-05-25</td>\n",
       "      <td>15:54:00</td>\n",
       "    </tr>\n",
       "    <tr>\n",
       "      <th>1</th>\n",
       "      <td>Ambience is too good for a pleasant evening. S...</td>\n",
       "      <td>5</td>\n",
       "      <td>2019-05-25</td>\n",
       "      <td>14:20:00</td>\n",
       "    </tr>\n",
       "  </tbody>\n",
       "</table>\n",
       "</div>"
      ],
      "text/plain": [
       "                                              Review Rating        date  \\\n",
       "0  The ambience was good, food was quite good . h...      5  2019-05-25   \n",
       "1  Ambience is too good for a pleasant evening. S...      5  2019-05-25   \n",
       "\n",
       "       time  \n",
       "0  15:54:00  \n",
       "1  14:20:00  "
      ]
     },
     "execution_count": 95,
     "metadata": {},
     "output_type": "execute_result"
    }
   ],
   "source": [
    "reviewRawData = reviewRawData.drop(['Reviewer','Pictures','7514','Restaurant','Metadata','datetime','Time'],axis=1)\n",
    "reviewRawData.head(2)"
   ]
  },
  {
   "cell_type": "code",
   "execution_count": 96,
   "id": "c9359e13-3a24-4503-9d88-566b9ef2ee46",
   "metadata": {},
   "outputs": [
    {
     "name": "stdout",
     "output_type": "stream",
     "text": [
      "Sample Review 1:\n",
      "Nothing bad, nothing good. Just there. Service is just as expected. Hygienic as should be. Orders are taken good. Orders are completed in expected time, good parking space... just all good. All good is not good. Can we have something more? It's a little dull place to be this joint.\n",
      "────────────────────────────────────────────────────────────\n",
      "\n",
      "Sample Review 2:\n",
      "One of the few joints , who specialises in paranthas. Ordered Paneer paranthas and cheese corn paranthas. Paneer paranthas was awesome and had a very good evenly distributed stuffing.thier chutney , which comes with paranthas , enhances the overall flavours.Keep up the awesomeness guys !\n",
      "────────────────────────────────────────────────────────────\n",
      "\n"
     ]
    }
   ],
   "source": [
    "sample_reviews = reviewRawData['Review'].dropna().sample(2, random_state=51)\n",
    "for i, rev in enumerate(sample_reviews, start=1):\n",
    "    print(f\"Sample Review {i}:\\n{rev}\\n{'─'*60}\\n\")"
   ]
  },
  {
   "cell_type": "markdown",
   "id": "39718337-ff36-4a46-8023-b37018f4a926",
   "metadata": {},
   "source": [
    "### Fried chicken reviews dataset "
   ]
  },
  {
   "cell_type": "code",
   "execution_count": 97,
   "id": "b1370d37-824c-458f-8f8e-73f286a775b8",
   "metadata": {},
   "outputs": [
    {
     "data": {
      "text/html": [
       "<div>\n",
       "<style scoped>\n",
       "    .dataframe tbody tr th:only-of-type {\n",
       "        vertical-align: middle;\n",
       "    }\n",
       "\n",
       "    .dataframe tbody tr th {\n",
       "        vertical-align: top;\n",
       "    }\n",
       "\n",
       "    .dataframe thead th {\n",
       "        text-align: right;\n",
       "    }\n",
       "</style>\n",
       "<table border=\"1\" class=\"dataframe\">\n",
       "  <thead>\n",
       "    <tr style=\"text-align: right;\">\n",
       "      <th></th>\n",
       "      <th>NO</th>\n",
       "      <th>Name</th>\n",
       "      <th>Location</th>\n",
       "      <th>Stars</th>\n",
       "      <th>Gender</th>\n",
       "      <th>Review</th>\n",
       "    </tr>\n",
       "  </thead>\n",
       "  <tbody>\n",
       "    <tr>\n",
       "      <th>0</th>\n",
       "      <td>1</td>\n",
       "      <td>K Soul Chicken</td>\n",
       "      <td>1710 Polk St , SF</td>\n",
       "      <td>5.0</td>\n",
       "      <td>F</td>\n",
       "      <td>Tell me why when I first opened the delivery b...</td>\n",
       "    </tr>\n",
       "    <tr>\n",
       "      <th>1</th>\n",
       "      <td>2</td>\n",
       "      <td>K Soul Chicken</td>\n",
       "      <td>1710 Polk St , SF</td>\n",
       "      <td>4.0</td>\n",
       "      <td>M</td>\n",
       "      <td>Drunken chronicles - once upon a time I was ba...</td>\n",
       "    </tr>\n",
       "  </tbody>\n",
       "</table>\n",
       "</div>"
      ],
      "text/plain": [
       "   NO            Name           Location  Stars Gender  \\\n",
       "0   1  K Soul Chicken  1710 Polk St , SF    5.0      F   \n",
       "1   2  K Soul Chicken  1710 Polk St , SF    4.0      M   \n",
       "\n",
       "                                              Review  \n",
       "0  Tell me why when I first opened the delivery b...  \n",
       "1  Drunken chronicles - once upon a time I was ba...  "
      ]
     },
     "execution_count": 97,
     "metadata": {},
     "output_type": "execute_result"
    }
   ],
   "source": [
    "fcReviewsRaw = pd.read_excel(\"Fried_chicken_review.xlsx\")\n",
    "fcReviewsRaw.head(2)"
   ]
  },
  {
   "cell_type": "code",
   "execution_count": 98,
   "id": "e72c8fca-b22b-44ae-b5eb-4fe89a832086",
   "metadata": {},
   "outputs": [
    {
     "data": {
      "text/html": [
       "<div>\n",
       "<style scoped>\n",
       "    .dataframe tbody tr th:only-of-type {\n",
       "        vertical-align: middle;\n",
       "    }\n",
       "\n",
       "    .dataframe tbody tr th {\n",
       "        vertical-align: top;\n",
       "    }\n",
       "\n",
       "    .dataframe thead th {\n",
       "        text-align: right;\n",
       "    }\n",
       "</style>\n",
       "<table border=\"1\" class=\"dataframe\">\n",
       "  <thead>\n",
       "    <tr style=\"text-align: right;\">\n",
       "      <th></th>\n",
       "      <th>Review</th>\n",
       "      <th>Rating</th>\n",
       "    </tr>\n",
       "  </thead>\n",
       "  <tbody>\n",
       "    <tr>\n",
       "      <th>0</th>\n",
       "      <td>Tell me why when I first opened the delivery b...</td>\n",
       "      <td>5</td>\n",
       "    </tr>\n",
       "    <tr>\n",
       "      <th>1</th>\n",
       "      <td>Drunken chronicles - once upon a time I was ba...</td>\n",
       "      <td>4</td>\n",
       "    </tr>\n",
       "  </tbody>\n",
       "</table>\n",
       "</div>"
      ],
      "text/plain": [
       "                                              Review  Rating\n",
       "0  Tell me why when I first opened the delivery b...       5\n",
       "1  Drunken chronicles - once upon a time I was ba...       4"
      ]
     },
     "execution_count": 98,
     "metadata": {},
     "output_type": "execute_result"
    }
   ],
   "source": [
    "fcReviewsRaw['Rating'] = fcReviewsRaw['Stars'] \n",
    "fcReviewsRaw = fcReviewsRaw.drop(['Gender','Location','Name','NO','Stars'],axis=1)\n",
    "\n",
    "fcReviewsRaw.dropna(axis=0, how='all', inplace=True)\n",
    "fcReviewsRaw['Rating']= fcReviewsRaw['Rating'].astype(int)\n",
    "fcReviewsRaw.head(2)"
   ]
  },
  {
   "cell_type": "code",
   "execution_count": 99,
   "id": "6a41345c-36e2-4b52-905a-b97b78d2777e",
   "metadata": {},
   "outputs": [
    {
     "name": "stdout",
     "output_type": "stream",
     "text": [
      "Sample Review 1:\n",
      "The fried chicken is amazing! Loved the mac n cheese, braised greens and corn bread too. The recipes are from owner Fernay's family, which is why the food is so exceptional. The ambiance is lovely, and it's a true community space for the wonderful people who have lived in the neighborhood for generations (including Fernay and her parents). Warm, friendly, delightful. There's a bit of a wait, and I expect it will get busier as word gets out about the opening ----- But worth the wait!\n",
      "\n",
      "\n",
      "────────────────────────────────────────────────────────────\n",
      "\n",
      "Sample Review 2:\n",
      "Definitely some of the best fried chicken in Louisville. Their menu is super extensive which is awesome since they have so much to offer.\n",
      "\n",
      "Fried chicken: obviously fire, so good!\n",
      "Mashed potatoes: delicious\n",
      "Mac and cheese: tastes homemade and not fake, but not the cheesiest\n",
      "Fried rice: rice&beans would be a better pair than the asian style fried rice they serve. It's just a weird combo with fried chicken and potatoes\n",
      "Wedges: big and crispy !!\n",
      "────────────────────────────────────────────────────────────\n",
      "\n"
     ]
    }
   ],
   "source": [
    "sample_reviews = fcReviewsRaw['Review'].dropna().sample(2, random_state=51)\n",
    "for i, rev in enumerate(sample_reviews, start=1):\n",
    "    print(f\"Sample Review {i}:\\n{rev}\\n{'─'*60}\\n\")"
   ]
  },
  {
   "cell_type": "code",
   "execution_count": null,
   "id": "87d62acc-8ac0-4fa3-9182-151120108cce",
   "metadata": {},
   "outputs": [],
   "source": []
  },
  {
   "cell_type": "code",
   "execution_count": 110,
   "id": "5c10b7a8-09c4-4c57-ac94-be36e1210a7b",
   "metadata": {},
   "outputs": [
    {
     "data": {
      "text/html": [
       "<div>\n",
       "<style scoped>\n",
       "    .dataframe tbody tr th:only-of-type {\n",
       "        vertical-align: middle;\n",
       "    }\n",
       "\n",
       "    .dataframe tbody tr th {\n",
       "        vertical-align: top;\n",
       "    }\n",
       "\n",
       "    .dataframe thead th {\n",
       "        text-align: right;\n",
       "    }\n",
       "</style>\n",
       "<table border=\"1\" class=\"dataframe\">\n",
       "  <thead>\n",
       "    <tr style=\"text-align: right;\">\n",
       "      <th></th>\n",
       "      <th>Review</th>\n",
       "      <th>Rating</th>\n",
       "      <th>date</th>\n",
       "      <th>time</th>\n",
       "    </tr>\n",
       "  </thead>\n",
       "  <tbody>\n",
       "    <tr>\n",
       "      <th>0</th>\n",
       "      <td>The ambience was good, food was quite good . h...</td>\n",
       "      <td>5</td>\n",
       "      <td>2019-05-25</td>\n",
       "      <td>15:54:00</td>\n",
       "    </tr>\n",
       "    <tr>\n",
       "      <th>1</th>\n",
       "      <td>Ambience is too good for a pleasant evening. S...</td>\n",
       "      <td>5</td>\n",
       "      <td>2019-05-25</td>\n",
       "      <td>14:20:00</td>\n",
       "    </tr>\n",
       "    <tr>\n",
       "      <th>2</th>\n",
       "      <td>A must try.. great food great ambience. Thnx f...</td>\n",
       "      <td>5</td>\n",
       "      <td>2019-05-24</td>\n",
       "      <td>22:54:00</td>\n",
       "    </tr>\n",
       "    <tr>\n",
       "      <th>3</th>\n",
       "      <td>Soumen das and Arun was a great guy. Only beca...</td>\n",
       "      <td>5</td>\n",
       "      <td>2019-05-24</td>\n",
       "      <td>22:11:00</td>\n",
       "    </tr>\n",
       "    <tr>\n",
       "      <th>4</th>\n",
       "      <td>Food is good.we ordered Kodi drumsticks and ba...</td>\n",
       "      <td>5</td>\n",
       "      <td>2019-05-24</td>\n",
       "      <td>21:37:00</td>\n",
       "    </tr>\n",
       "    <tr>\n",
       "      <th>...</th>\n",
       "      <td>...</td>\n",
       "      <td>...</td>\n",
       "      <td>...</td>\n",
       "      <td>...</td>\n",
       "    </tr>\n",
       "    <tr>\n",
       "      <th>1334</th>\n",
       "      <td>I'm so happy Grimes's opened near my home. Bes...</td>\n",
       "      <td>5</td>\n",
       "      <td>NaN</td>\n",
       "      <td>NaN</td>\n",
       "    </tr>\n",
       "    <tr>\n",
       "      <th>1335</th>\n",
       "      <td>Just ok. The one on Georgetown St is ok. I don...</td>\n",
       "      <td>3</td>\n",
       "      <td>NaN</td>\n",
       "      <td>NaN</td>\n",
       "    </tr>\n",
       "    <tr>\n",
       "      <th>1336</th>\n",
       "      <td>i waited 40 minutes for my food just to find o...</td>\n",
       "      <td>2</td>\n",
       "      <td>NaN</td>\n",
       "      <td>NaN</td>\n",
       "    </tr>\n",
       "    <tr>\n",
       "      <th>1337</th>\n",
       "      <td>Best spicy chicken in Lexington!!! Very afford...</td>\n",
       "      <td>5</td>\n",
       "      <td>NaN</td>\n",
       "      <td>NaN</td>\n",
       "    </tr>\n",
       "    <tr>\n",
       "      <th>1338</th>\n",
       "      <td>I bought a 12 piece family pack of chicken and...</td>\n",
       "      <td>1</td>\n",
       "      <td>NaN</td>\n",
       "      <td>NaN</td>\n",
       "    </tr>\n",
       "  </tbody>\n",
       "</table>\n",
       "<p>11338 rows × 4 columns</p>\n",
       "</div>"
      ],
      "text/plain": [
       "                                                 Review Rating        date  \\\n",
       "0     The ambience was good, food was quite good . h...      5  2019-05-25   \n",
       "1     Ambience is too good for a pleasant evening. S...      5  2019-05-25   \n",
       "2     A must try.. great food great ambience. Thnx f...      5  2019-05-24   \n",
       "3     Soumen das and Arun was a great guy. Only beca...      5  2019-05-24   \n",
       "4     Food is good.we ordered Kodi drumsticks and ba...      5  2019-05-24   \n",
       "...                                                 ...    ...         ...   \n",
       "1334  I'm so happy Grimes's opened near my home. Bes...      5         NaN   \n",
       "1335  Just ok. The one on Georgetown St is ok. I don...      3         NaN   \n",
       "1336  i waited 40 minutes for my food just to find o...      2         NaN   \n",
       "1337  Best spicy chicken in Lexington!!! Very afford...      5         NaN   \n",
       "1338  I bought a 12 piece family pack of chicken and...      1         NaN   \n",
       "\n",
       "          time  \n",
       "0     15:54:00  \n",
       "1     14:20:00  \n",
       "2     22:54:00  \n",
       "3     22:11:00  \n",
       "4     21:37:00  \n",
       "...        ...  \n",
       "1334       NaN  \n",
       "1335       NaN  \n",
       "1336       NaN  \n",
       "1337       NaN  \n",
       "1338       NaN  \n",
       "\n",
       "[11338 rows x 4 columns]"
      ]
     },
     "execution_count": 110,
     "metadata": {},
     "output_type": "execute_result"
    }
   ],
   "source": [
    "# Visual Python: Data Analysis > Bind\n",
    "reviewdf = pd.concat([reviewRawData,fcReviewsRaw], join='outer', axis=0)\n",
    "reviewdf"
   ]
  },
  {
   "cell_type": "code",
   "execution_count": null,
   "id": "6c89cd76-9c21-4dfc-9f3d-b7e5ad5ad9ee",
   "metadata": {},
   "outputs": [],
   "source": []
  }
 ],
 "metadata": {
  "kernelspec": {
   "display_name": "Python 3 (ipykernel)",
   "language": "python",
   "name": "python3"
  },
  "language_info": {
   "codemirror_mode": {
    "name": "ipython",
    "version": 3
   },
   "file_extension": ".py",
   "mimetype": "text/x-python",
   "name": "python",
   "nbconvert_exporter": "python",
   "pygments_lexer": "ipython3",
   "version": "3.11.13"
  }
 },
 "nbformat": 4,
 "nbformat_minor": 5
}
